{
  "nbformat": 4,
  "nbformat_minor": 0,
  "metadata": {
    "colab": {
      "provenance": [],
      "collapsed_sections": [
        "G8NJWEI8_LKY",
        "I5T7McQz-tM7",
        "Pn0lGy3u_ZCR",
        "39XXc37B_f-t",
        "UiopKl_T-91Z",
        "7P5J8bh8_G8j",
        "b_oOSJUjDjJr"
      ]
    },
    "kernelspec": {
      "name": "python3",
      "display_name": "Python 3"
    },
    "language_info": {
      "name": "python"
    }
  },
  "cells": [
    {
      "cell_type": "code",
      "execution_count": null,
      "metadata": {
        "id": "Kp0OKLrZ-o_k"
      },
      "outputs": [],
      "source": [
        "import pandas as pd\n",
        "from sklearn.preprocessing import StandardScaler\n",
        "from sklearn.model_selection import train_test_split\n",
        "from sklearn.linear_model import LogisticRegression\n",
        "from sklearn.metrics import accuracy_score, classification_report\n",
        "\n",
        "import pickle as pickle"
      ]
    },
    {
      "cell_type": "markdown",
      "source": [
        "# Data"
      ],
      "metadata": {
        "id": "GflicE5p_ORY"
      }
    },
    {
      "cell_type": "markdown",
      "source": [
        "## Clean Data"
      ],
      "metadata": {
        "id": "G8NJWEI8_LKY"
      }
    },
    {
      "cell_type": "code",
      "source": [
        "data = pd.read_csv(\"data/data.csv\")\n",
        "data = data.drop([\"Unnamed: 32\",\"id\"], axis=1)\n",
        "data[\"diagnosis\"] = data[\"diagnosis\"].map({\"M\":1,\"B\":0})"
      ],
      "metadata": {
        "id": "o8GkcGfY_P2k"
      },
      "execution_count": null,
      "outputs": []
    },
    {
      "cell_type": "markdown",
      "source": [
        "# Model"
      ],
      "metadata": {
        "id": "9aICflKK_W6g"
      }
    },
    {
      "cell_type": "markdown",
      "source": [
        "### *Create Model*"
      ],
      "metadata": {
        "id": "I5T7McQz-tM7"
      }
    },
    {
      "cell_type": "code",
      "source": [
        "X = data.drop([\"diagnosis\"], axis=1)  # The one we need in order to predict\n",
        "Y = data[\"diagnosis\"]  # The one we want to predict"
      ],
      "metadata": {
        "id": "VRP6qqVM-v5W"
      },
      "execution_count": null,
      "outputs": []
    },
    {
      "cell_type": "markdown",
      "source": [
        "X = data.drop([\"diagnosis\"], axis=1)\n",
        "\n",
        "> Bu bizim tahmin yapmak için çalışacağımız veriler. Bunlara bakarak tahmin yapıcak.\n",
        "\n",
        "\n",
        "---\n",
        "\n",
        "\n",
        "\n",
        "Y = data[\"diagnosis\"]\n",
        "> Tahmin etmek istediğimiz şey"
      ],
      "metadata": {
        "id": "2mrh2T4kANel"
      }
    },
    {
      "cell_type": "markdown",
      "source": [
        "### *Scale the Data*"
      ],
      "metadata": {
        "id": "Pn0lGy3u_ZCR"
      }
    },
    {
      "cell_type": "code",
      "source": [
        "scaler = StandardScaler()\n",
        "X = scaler.fit_transform(X)"
      ],
      "metadata": {
        "id": "94uk3xjX-2TF"
      },
      "execution_count": null,
      "outputs": []
    },
    {
      "cell_type": "markdown",
      "source": [
        "Daha iyi performans için yaptık"
      ],
      "metadata": {
        "id": "tmu87a98A-rx"
      }
    },
    {
      "cell_type": "markdown",
      "source": [
        "### *Split the Data*"
      ],
      "metadata": {
        "id": "39XXc37B_f-t"
      }
    },
    {
      "cell_type": "code",
      "source": [
        "x_train, x_test, y_train, y_test = train_test_split(\n",
        "    X,Y,\n",
        "    test_size=0.2, # %20 is for testing\n",
        "    random_state=42 # randomize data for better results\n",
        ")"
      ],
      "metadata": {
        "id": "pM0EKbkj-6Gj"
      },
      "execution_count": null,
      "outputs": []
    },
    {
      "cell_type": "markdown",
      "source": [
        "*(öğrenmek için), (deneme için), (cevap anahtarı), (deneme cevapları)*"
      ],
      "metadata": {
        "id": "vHJpfEf2BJVB"
      }
    },
    {
      "cell_type": "markdown",
      "source": [
        "### *Train Model*"
      ],
      "metadata": {
        "id": "UiopKl_T-91Z"
      }
    },
    {
      "cell_type": "code",
      "source": [
        "model = LogisticRegression()\n",
        "model.fit(x_train, y_train)"
      ],
      "metadata": {
        "id": "ivP4heE1-_hM",
        "colab": {
          "base_uri": "https://localhost:8080/"
        },
        "outputId": "559e4942-dd34-44da-c615-1a2a387f6453"
      },
      "execution_count": null,
      "outputs": [
        {
          "output_type": "execute_result",
          "data": {
            "text/plain": [
              "LogisticRegression()"
            ],
            "text/html": [
              "<style>#sk-container-id-3 {color: black;background-color: white;}#sk-container-id-3 pre{padding: 0;}#sk-container-id-3 div.sk-toggleable {background-color: white;}#sk-container-id-3 label.sk-toggleable__label {cursor: pointer;display: block;width: 100%;margin-bottom: 0;padding: 0.3em;box-sizing: border-box;text-align: center;}#sk-container-id-3 label.sk-toggleable__label-arrow:before {content: \"▸\";float: left;margin-right: 0.25em;color: #696969;}#sk-container-id-3 label.sk-toggleable__label-arrow:hover:before {color: black;}#sk-container-id-3 div.sk-estimator:hover label.sk-toggleable__label-arrow:before {color: black;}#sk-container-id-3 div.sk-toggleable__content {max-height: 0;max-width: 0;overflow: hidden;text-align: left;background-color: #f0f8ff;}#sk-container-id-3 div.sk-toggleable__content pre {margin: 0.2em;color: black;border-radius: 0.25em;background-color: #f0f8ff;}#sk-container-id-3 input.sk-toggleable__control:checked~div.sk-toggleable__content {max-height: 200px;max-width: 100%;overflow: auto;}#sk-container-id-3 input.sk-toggleable__control:checked~label.sk-toggleable__label-arrow:before {content: \"▾\";}#sk-container-id-3 div.sk-estimator input.sk-toggleable__control:checked~label.sk-toggleable__label {background-color: #d4ebff;}#sk-container-id-3 div.sk-label input.sk-toggleable__control:checked~label.sk-toggleable__label {background-color: #d4ebff;}#sk-container-id-3 input.sk-hidden--visually {border: 0;clip: rect(1px 1px 1px 1px);clip: rect(1px, 1px, 1px, 1px);height: 1px;margin: -1px;overflow: hidden;padding: 0;position: absolute;width: 1px;}#sk-container-id-3 div.sk-estimator {font-family: monospace;background-color: #f0f8ff;border: 1px dotted black;border-radius: 0.25em;box-sizing: border-box;margin-bottom: 0.5em;}#sk-container-id-3 div.sk-estimator:hover {background-color: #d4ebff;}#sk-container-id-3 div.sk-parallel-item::after {content: \"\";width: 100%;border-bottom: 1px solid gray;flex-grow: 1;}#sk-container-id-3 div.sk-label:hover label.sk-toggleable__label {background-color: #d4ebff;}#sk-container-id-3 div.sk-serial::before {content: \"\";position: absolute;border-left: 1px solid gray;box-sizing: border-box;top: 0;bottom: 0;left: 50%;z-index: 0;}#sk-container-id-3 div.sk-serial {display: flex;flex-direction: column;align-items: center;background-color: white;padding-right: 0.2em;padding-left: 0.2em;position: relative;}#sk-container-id-3 div.sk-item {position: relative;z-index: 1;}#sk-container-id-3 div.sk-parallel {display: flex;align-items: stretch;justify-content: center;background-color: white;position: relative;}#sk-container-id-3 div.sk-item::before, #sk-container-id-3 div.sk-parallel-item::before {content: \"\";position: absolute;border-left: 1px solid gray;box-sizing: border-box;top: 0;bottom: 0;left: 50%;z-index: -1;}#sk-container-id-3 div.sk-parallel-item {display: flex;flex-direction: column;z-index: 1;position: relative;background-color: white;}#sk-container-id-3 div.sk-parallel-item:first-child::after {align-self: flex-end;width: 50%;}#sk-container-id-3 div.sk-parallel-item:last-child::after {align-self: flex-start;width: 50%;}#sk-container-id-3 div.sk-parallel-item:only-child::after {width: 0;}#sk-container-id-3 div.sk-dashed-wrapped {border: 1px dashed gray;margin: 0 0.4em 0.5em 0.4em;box-sizing: border-box;padding-bottom: 0.4em;background-color: white;}#sk-container-id-3 div.sk-label label {font-family: monospace;font-weight: bold;display: inline-block;line-height: 1.2em;}#sk-container-id-3 div.sk-label-container {text-align: center;}#sk-container-id-3 div.sk-container {/* jupyter's `normalize.less` sets `[hidden] { display: none; }` but bootstrap.min.css set `[hidden] { display: none !important; }` so we also need the `!important` here to be able to override the default hidden behavior on the sphinx rendered scikit-learn.org. See: https://github.com/scikit-learn/scikit-learn/issues/21755 */display: inline-block !important;position: relative;}#sk-container-id-3 div.sk-text-repr-fallback {display: none;}</style><div id=\"sk-container-id-3\" class=\"sk-top-container\"><div class=\"sk-text-repr-fallback\"><pre>LogisticRegression()</pre><b>In a Jupyter environment, please rerun this cell to show the HTML representation or trust the notebook. <br />On GitHub, the HTML representation is unable to render, please try loading this page with nbviewer.org.</b></div><div class=\"sk-container\" hidden><div class=\"sk-item\"><div class=\"sk-estimator sk-toggleable\"><input class=\"sk-toggleable__control sk-hidden--visually\" id=\"sk-estimator-id-3\" type=\"checkbox\" checked><label for=\"sk-estimator-id-3\" class=\"sk-toggleable__label sk-toggleable__label-arrow\">LogisticRegression</label><div class=\"sk-toggleable__content\"><pre>LogisticRegression()</pre></div></div></div></div></div>"
            ]
          },
          "metadata": {},
          "execution_count": 36
        }
      ]
    },
    {
      "cell_type": "markdown",
      "source": [
        "### *Test Model*"
      ],
      "metadata": {
        "id": "7P5J8bh8_G8j"
      }
    },
    {
      "cell_type": "code",
      "source": [
        "y_pred = model.predict(x_test)"
      ],
      "metadata": {
        "id": "S17YVqWV_Ebs"
      },
      "execution_count": null,
      "outputs": []
    },
    {
      "cell_type": "code",
      "source": [
        "print(\"Accuracy: \", accuracy_score(y_test, y_pred))"
      ],
      "metadata": {
        "id": "PKa21KLO_yVc"
      },
      "execution_count": null,
      "outputs": []
    },
    {
      "cell_type": "code",
      "source": [
        "print(\"Classification report: \", classification_report(y_test, y_pred))"
      ],
      "metadata": {
        "id": "V0g_xehD_xYS"
      },
      "execution_count": null,
      "outputs": []
    },
    {
      "cell_type": "markdown",
      "source": [
        "### *Export Model*"
      ],
      "metadata": {
        "id": "b_oOSJUjDjJr"
      }
    },
    {
      "cell_type": "code",
      "source": [
        "with open('model/model.pkl','wb') as file:\n",
        "  pickle.dump(model, file)\n",
        "with open('model/scaler.pkl','wb') as file:\n",
        "  pickle.dump(scaler, file)"
      ],
      "metadata": {
        "id": "5LpszgahDlxb"
      },
      "execution_count": null,
      "outputs": []
    }
  ]
}